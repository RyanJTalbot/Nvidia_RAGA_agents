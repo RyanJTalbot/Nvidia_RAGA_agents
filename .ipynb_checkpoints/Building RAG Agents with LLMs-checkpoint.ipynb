{
 "cells": [
  {
   "cell_type": "markdown",
   "id": "5765e8db-85cd-4442-a06b-1b1b6c917dab",
   "metadata": {},
   "source": [
    "https://learn.next.courses.nvidia.com/courses/course-v1:DLI+S-FX-15+V1/course/"
   ]
  },
  {
   "cell_type": "markdown",
   "id": "0fc38fde-9266-4613-a1b2-e1d999bf7fbb",
   "metadata": {},
   "source": [
    "Agents powered by large language models (LLMs) are quickly gaining popularity from both individuals and companies as people are finding new emerging capabilities and opportunities to greatly improve their productivity. An especially powerful recent development has been the popularization of retrieval-based LLM systems that can hold informed conversations by using tools, looking at documents, and planning their approaches. These systems are very fun to experiment with and offer unprecedented opportunities to make life easier, but also require many queries to large deep learning models and need to be implemented efficiently. This course will observe how you can deploy an agent system in practice and scale up your system to meet the demands of users and customers.\n",
    "Learning Objectives\n",
    "\n",
    "    Explore scalable deployment strategies for LLMs and vector databases.\n",
    "    Learn about microservices, how to work between them, and how to develop your own.\n",
    "    Experiment with modern LangChain paradigms to develop dialog management and document retrieval solutions.\n",
    "    Get practice with state-of-the-art models with clear next steps regarding productionalization and framework exploration.\n",
    "\n",
    "Course Details\n",
    "\n",
    "Prerequisites:\n",
    "\n",
    "    Comfort with Large Language Models and surrounding composition frameworks like LangChain. Courses like Prompt Engineering with LLaMA-2, Introduction to Transformer-Based Natural Language Processing, Rapid Application Development with LLMs or LangChain-oriented courses among the DeepLearning.ai catalogue are good resources, though general comfort from project experience or usage of chat models (i.e. GPT4/Llama-2) should be sufficient.\n",
    "    Intermediate Python experience.\n",
    "    Web engineering and dev-ops backgrounds are useful but not required."
   ]
  },
  {
   "cell_type": "markdown",
   "id": "e84841ba-d390-4819-bfc7-29742bd54de3",
   "metadata": {},
   "source": [
    "\n",
    "Course Details\n",
    "- Duration: 8 Hours\n",
    "- Price: Free\n",
    "- Tags: Retrieval-Augmented Generation, Generative AI, AI Foundation, LangChain, Chat Agents, Dialog Management, Document Reasoning\n"
   ]
  },
  {
   "cell_type": "code",
   "execution_count": null,
   "id": "7ea98565-5f92-4fc0-ad14-b517f9951eed",
   "metadata": {},
   "outputs": [],
   "source": []
  }
 ],
 "metadata": {
  "kernelspec": {
   "display_name": "Python 3 (ipykernel)",
   "language": "python",
   "name": "python3"
  },
  "language_info": {
   "codemirror_mode": {
    "name": "ipython",
    "version": 3
   },
   "file_extension": ".py",
   "mimetype": "text/x-python",
   "name": "python",
   "nbconvert_exporter": "python",
   "pygments_lexer": "ipython3",
   "version": "3.10.12"
  }
 },
 "nbformat": 4,
 "nbformat_minor": 5
}
